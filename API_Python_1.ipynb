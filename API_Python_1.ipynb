{
 "cells": [
  {
   "cell_type": "code",
   "execution_count": 13,
   "metadata": {},
   "outputs": [],
   "source": [
    "import requests\n",
    "import pandas as pd"
   ]
  },
  {
   "cell_type": "code",
   "execution_count": 14,
   "metadata": {},
   "outputs": [],
   "source": [
    "url = \"https://pokeapi.co/api/v2/pokemon/\"\n",
    "r = requests.get(url)"
   ]
  },
  {
   "cell_type": "code",
   "execution_count": 15,
   "metadata": {},
   "outputs": [
    {
     "output_type": "execute_result",
     "data": {
      "text/plain": [
       "<Response [200]>"
      ]
     },
     "metadata": {},
     "execution_count": 15
    }
   ],
   "source": [
    "r"
   ]
  },
  {
   "cell_type": "code",
   "execution_count": 16,
   "metadata": {},
   "outputs": [
    {
     "output_type": "execute_result",
     "data": {
      "text/plain": [
       "{'count': 1118,\n",
       " 'next': 'https://pokeapi.co/api/v2/pokemon/?offset=20&limit=20',\n",
       " 'previous': None,\n",
       " 'results': [{'name': 'bulbasaur',\n",
       "   'url': 'https://pokeapi.co/api/v2/pokemon/1/'},\n",
       "  {'name': 'ivysaur', 'url': 'https://pokeapi.co/api/v2/pokemon/2/'},\n",
       "  {'name': 'venusaur', 'url': 'https://pokeapi.co/api/v2/pokemon/3/'},\n",
       "  {'name': 'charmander', 'url': 'https://pokeapi.co/api/v2/pokemon/4/'},\n",
       "  {'name': 'charmeleon', 'url': 'https://pokeapi.co/api/v2/pokemon/5/'},\n",
       "  {'name': 'charizard', 'url': 'https://pokeapi.co/api/v2/pokemon/6/'},\n",
       "  {'name': 'squirtle', 'url': 'https://pokeapi.co/api/v2/pokemon/7/'},\n",
       "  {'name': 'wartortle', 'url': 'https://pokeapi.co/api/v2/pokemon/8/'},\n",
       "  {'name': 'blastoise', 'url': 'https://pokeapi.co/api/v2/pokemon/9/'},\n",
       "  {'name': 'caterpie', 'url': 'https://pokeapi.co/api/v2/pokemon/10/'},\n",
       "  {'name': 'metapod', 'url': 'https://pokeapi.co/api/v2/pokemon/11/'},\n",
       "  {'name': 'butterfree', 'url': 'https://pokeapi.co/api/v2/pokemon/12/'},\n",
       "  {'name': 'weedle', 'url': 'https://pokeapi.co/api/v2/pokemon/13/'},\n",
       "  {'name': 'kakuna', 'url': 'https://pokeapi.co/api/v2/pokemon/14/'},\n",
       "  {'name': 'beedrill', 'url': 'https://pokeapi.co/api/v2/pokemon/15/'},\n",
       "  {'name': 'pidgey', 'url': 'https://pokeapi.co/api/v2/pokemon/16/'},\n",
       "  {'name': 'pidgeotto', 'url': 'https://pokeapi.co/api/v2/pokemon/17/'},\n",
       "  {'name': 'pidgeot', 'url': 'https://pokeapi.co/api/v2/pokemon/18/'},\n",
       "  {'name': 'rattata', 'url': 'https://pokeapi.co/api/v2/pokemon/19/'},\n",
       "  {'name': 'raticate', 'url': 'https://pokeapi.co/api/v2/pokemon/20/'}]}"
      ]
     },
     "metadata": {},
     "execution_count": 16
    }
   ],
   "source": [
    "json = r.json()\n",
    "json"
   ]
  },
  {
   "cell_type": "code",
   "execution_count": 17,
   "metadata": {},
   "outputs": [],
   "source": [
    "param = {'limit': json['count']}\n",
    "r = requests.get(url, params = param)\n",
    "json = r.json()"
   ]
  },
  {
   "cell_type": "code",
   "execution_count": 18,
   "metadata": {},
   "outputs": [
    {
     "output_type": "execute_result",
     "data": {
      "text/plain": [
       "                            name                                       url\n",
       "0                      bulbasaur      https://pokeapi.co/api/v2/pokemon/1/\n",
       "1                        ivysaur      https://pokeapi.co/api/v2/pokemon/2/\n",
       "2                       venusaur      https://pokeapi.co/api/v2/pokemon/3/\n",
       "3                     charmander      https://pokeapi.co/api/v2/pokemon/4/\n",
       "4                     charmeleon      https://pokeapi.co/api/v2/pokemon/5/\n",
       "...                          ...                                       ...\n",
       "1113              duraludon-gmax  https://pokeapi.co/api/v2/pokemon/10216/\n",
       "1114         eternatus-eternamax  https://pokeapi.co/api/v2/pokemon/10217/\n",
       "1115  urshifu-single-strike-gmax  https://pokeapi.co/api/v2/pokemon/10218/\n",
       "1116   urshifu-rapid-strike-gmax  https://pokeapi.co/api/v2/pokemon/10219/\n",
       "1117     toxtricity-low-key-gmax  https://pokeapi.co/api/v2/pokemon/10220/\n",
       "\n",
       "[1118 rows x 2 columns]"
      ],
      "text/html": "<div>\n<style scoped>\n    .dataframe tbody tr th:only-of-type {\n        vertical-align: middle;\n    }\n\n    .dataframe tbody tr th {\n        vertical-align: top;\n    }\n\n    .dataframe thead th {\n        text-align: right;\n    }\n</style>\n<table border=\"1\" class=\"dataframe\">\n  <thead>\n    <tr style=\"text-align: right;\">\n      <th></th>\n      <th>name</th>\n      <th>url</th>\n    </tr>\n  </thead>\n  <tbody>\n    <tr>\n      <th>0</th>\n      <td>bulbasaur</td>\n      <td>https://pokeapi.co/api/v2/pokemon/1/</td>\n    </tr>\n    <tr>\n      <th>1</th>\n      <td>ivysaur</td>\n      <td>https://pokeapi.co/api/v2/pokemon/2/</td>\n    </tr>\n    <tr>\n      <th>2</th>\n      <td>venusaur</td>\n      <td>https://pokeapi.co/api/v2/pokemon/3/</td>\n    </tr>\n    <tr>\n      <th>3</th>\n      <td>charmander</td>\n      <td>https://pokeapi.co/api/v2/pokemon/4/</td>\n    </tr>\n    <tr>\n      <th>4</th>\n      <td>charmeleon</td>\n      <td>https://pokeapi.co/api/v2/pokemon/5/</td>\n    </tr>\n    <tr>\n      <th>...</th>\n      <td>...</td>\n      <td>...</td>\n    </tr>\n    <tr>\n      <th>1113</th>\n      <td>duraludon-gmax</td>\n      <td>https://pokeapi.co/api/v2/pokemon/10216/</td>\n    </tr>\n    <tr>\n      <th>1114</th>\n      <td>eternatus-eternamax</td>\n      <td>https://pokeapi.co/api/v2/pokemon/10217/</td>\n    </tr>\n    <tr>\n      <th>1115</th>\n      <td>urshifu-single-strike-gmax</td>\n      <td>https://pokeapi.co/api/v2/pokemon/10218/</td>\n    </tr>\n    <tr>\n      <th>1116</th>\n      <td>urshifu-rapid-strike-gmax</td>\n      <td>https://pokeapi.co/api/v2/pokemon/10219/</td>\n    </tr>\n    <tr>\n      <th>1117</th>\n      <td>toxtricity-low-key-gmax</td>\n      <td>https://pokeapi.co/api/v2/pokemon/10220/</td>\n    </tr>\n  </tbody>\n</table>\n<p>1118 rows × 2 columns</p>\n</div>"
     },
     "metadata": {},
     "execution_count": 18
    }
   ],
   "source": [
    "df = pd.DataFrame(json['results'])\n",
    "df"
   ]
  },
  {
   "cell_type": "code",
   "execution_count": 7,
   "metadata": {},
   "outputs": [
    {
     "output_type": "execute_result",
     "data": {
      "text/plain": [
       "          0\n",
       "0         1\n",
       "1         2\n",
       "2         3\n",
       "3         4\n",
       "4         5\n",
       "...     ...\n",
       "1113  10216\n",
       "1114  10217\n",
       "1115  10218\n",
       "1116  10219\n",
       "1117  10220\n",
       "\n",
       "[1118 rows x 1 columns]"
      ],
      "text/html": "<div>\n<style scoped>\n    .dataframe tbody tr th:only-of-type {\n        vertical-align: middle;\n    }\n\n    .dataframe tbody tr th {\n        vertical-align: top;\n    }\n\n    .dataframe thead th {\n        text-align: right;\n    }\n</style>\n<table border=\"1\" class=\"dataframe\">\n  <thead>\n    <tr style=\"text-align: right;\">\n      <th></th>\n      <th>0</th>\n    </tr>\n  </thead>\n  <tbody>\n    <tr>\n      <th>0</th>\n      <td>1</td>\n    </tr>\n    <tr>\n      <th>1</th>\n      <td>2</td>\n    </tr>\n    <tr>\n      <th>2</th>\n      <td>3</td>\n    </tr>\n    <tr>\n      <th>3</th>\n      <td>4</td>\n    </tr>\n    <tr>\n      <th>4</th>\n      <td>5</td>\n    </tr>\n    <tr>\n      <th>...</th>\n      <td>...</td>\n    </tr>\n    <tr>\n      <th>1113</th>\n      <td>10216</td>\n    </tr>\n    <tr>\n      <th>1114</th>\n      <td>10217</td>\n    </tr>\n    <tr>\n      <th>1115</th>\n      <td>10218</td>\n    </tr>\n    <tr>\n      <th>1116</th>\n      <td>10219</td>\n    </tr>\n    <tr>\n      <th>1117</th>\n      <td>10220</td>\n    </tr>\n  </tbody>\n</table>\n<p>1118 rows × 1 columns</p>\n</div>"
     },
     "metadata": {},
     "execution_count": 7
    }
   ],
   "source": [
    "id_ = []\n",
    "for page in df.url:\n",
    "    url = '{}'.format(page)\n",
    "    r = requests.get(url)\n",
    "    json = r.json()\n",
    "    id_.append(json['id'])\n",
    "\n",
    "df_id = pd.DataFrame(id_)\n",
    "df_id"
   ]
  },
  {
   "cell_type": "code",
   "execution_count": 19,
   "metadata": {},
   "outputs": [],
   "source": [
    "df = pd.concat([df, df_id], axis = 1)\n",
    "df = df.iloc[:,[0,2]]"
   ]
  },
  {
   "cell_type": "code",
   "execution_count": 20,
   "metadata": {},
   "outputs": [
    {
     "output_type": "execute_result",
     "data": {
      "text/plain": [
       "                            Name     Id\n",
       "0                      bulbasaur      1\n",
       "1                        ivysaur      2\n",
       "2                       venusaur      3\n",
       "3                     charmander      4\n",
       "4                     charmeleon      5\n",
       "...                          ...    ...\n",
       "1113              duraludon-gmax  10216\n",
       "1114         eternatus-eternamax  10217\n",
       "1115  urshifu-single-strike-gmax  10218\n",
       "1116   urshifu-rapid-strike-gmax  10219\n",
       "1117     toxtricity-low-key-gmax  10220\n",
       "\n",
       "[1118 rows x 2 columns]"
      ],
      "text/html": "<div>\n<style scoped>\n    .dataframe tbody tr th:only-of-type {\n        vertical-align: middle;\n    }\n\n    .dataframe tbody tr th {\n        vertical-align: top;\n    }\n\n    .dataframe thead th {\n        text-align: right;\n    }\n</style>\n<table border=\"1\" class=\"dataframe\">\n  <thead>\n    <tr style=\"text-align: right;\">\n      <th></th>\n      <th>Name</th>\n      <th>Id</th>\n    </tr>\n  </thead>\n  <tbody>\n    <tr>\n      <th>0</th>\n      <td>bulbasaur</td>\n      <td>1</td>\n    </tr>\n    <tr>\n      <th>1</th>\n      <td>ivysaur</td>\n      <td>2</td>\n    </tr>\n    <tr>\n      <th>2</th>\n      <td>venusaur</td>\n      <td>3</td>\n    </tr>\n    <tr>\n      <th>3</th>\n      <td>charmander</td>\n      <td>4</td>\n    </tr>\n    <tr>\n      <th>4</th>\n      <td>charmeleon</td>\n      <td>5</td>\n    </tr>\n    <tr>\n      <th>...</th>\n      <td>...</td>\n      <td>...</td>\n    </tr>\n    <tr>\n      <th>1113</th>\n      <td>duraludon-gmax</td>\n      <td>10216</td>\n    </tr>\n    <tr>\n      <th>1114</th>\n      <td>eternatus-eternamax</td>\n      <td>10217</td>\n    </tr>\n    <tr>\n      <th>1115</th>\n      <td>urshifu-single-strike-gmax</td>\n      <td>10218</td>\n    </tr>\n    <tr>\n      <th>1116</th>\n      <td>urshifu-rapid-strike-gmax</td>\n      <td>10219</td>\n    </tr>\n    <tr>\n      <th>1117</th>\n      <td>toxtricity-low-key-gmax</td>\n      <td>10220</td>\n    </tr>\n  </tbody>\n</table>\n<p>1118 rows × 2 columns</p>\n</div>"
     },
     "metadata": {},
     "execution_count": 20
    }
   ],
   "source": [
    "df.reset_index\n",
    "df.columns = [\"Name\", \"Id\"]\n",
    "df"
   ]
  },
  {
   "cell_type": "code",
   "execution_count": 22,
   "metadata": {},
   "outputs": [],
   "source": [
    "df.to_csv('pokemons_list.csv')"
   ]
  },
  {
   "cell_type": "code",
   "execution_count": null,
   "metadata": {},
   "outputs": [],
   "source": []
  }
 ],
 "metadata": {
  "kernelspec": {
   "name": "python385jvsc74a57bd0dca0ade3e726a953b501b15e8e990130d2b7799f14cfd9f4271676035ebe5511",
   "display_name": "Python 3.8.5 64-bit ('base': conda)"
  },
  "language_info": {
   "codemirror_mode": {
    "name": "ipython",
    "version": 3
   },
   "file_extension": ".py",
   "mimetype": "text/x-python",
   "name": "python",
   "nbconvert_exporter": "python",
   "pygments_lexer": "ipython3",
   "version": "3.8.5"
  }
 },
 "nbformat": 4,
 "nbformat_minor": 4
}